{
 "cells": [
  {
   "cell_type": "markdown",
   "id": "fdac4f37",
   "metadata": {},
   "source": [
    "## Przygotowanie środowiska i danych"
   ]
  },
  {
   "cell_type": "code",
   "execution_count": 23,
   "id": "f3506ba9",
   "metadata": {},
   "outputs": [],
   "source": [
    "import pandas as pd\n",
    "import numpy as np\n",
    "import pickle\n",
    "import statsmodels.api as sm\n",
    "from sklearn import metrics\n",
    "import matplotlib.pyplot as plt\n",
    "plt.style.use('seaborn-ticks')\n",
    "%matplotlib inline"
   ]
  },
  {
   "cell_type": "code",
   "execution_count": 24,
   "id": "0f67b122",
   "metadata": {},
   "outputs": [
    {
     "name": "stdout",
     "output_type": "stream",
     "text": [
      "(11162, 17)\n"
     ]
    },
    {
     "data": {
      "text/html": [
       "<div>\n",
       "<style scoped>\n",
       "    .dataframe tbody tr th:only-of-type {\n",
       "        vertical-align: middle;\n",
       "    }\n",
       "\n",
       "    .dataframe tbody tr th {\n",
       "        vertical-align: top;\n",
       "    }\n",
       "\n",
       "    .dataframe thead th {\n",
       "        text-align: right;\n",
       "    }\n",
       "</style>\n",
       "<table border=\"1\" class=\"dataframe\">\n",
       "  <thead>\n",
       "    <tr style=\"text-align: right;\">\n",
       "      <th></th>\n",
       "      <th>age</th>\n",
       "      <th>job</th>\n",
       "      <th>marital</th>\n",
       "      <th>education</th>\n",
       "      <th>default</th>\n",
       "      <th>balance</th>\n",
       "      <th>housing</th>\n",
       "      <th>loan</th>\n",
       "      <th>contact</th>\n",
       "      <th>day</th>\n",
       "      <th>month</th>\n",
       "      <th>duration</th>\n",
       "      <th>campaign</th>\n",
       "      <th>pdays</th>\n",
       "      <th>previous</th>\n",
       "      <th>poutcome</th>\n",
       "      <th>deposit</th>\n",
       "    </tr>\n",
       "  </thead>\n",
       "  <tbody>\n",
       "    <tr>\n",
       "      <th>0</th>\n",
       "      <td>59</td>\n",
       "      <td>admin.</td>\n",
       "      <td>married</td>\n",
       "      <td>secondary</td>\n",
       "      <td>no</td>\n",
       "      <td>2343</td>\n",
       "      <td>yes</td>\n",
       "      <td>no</td>\n",
       "      <td>unknown</td>\n",
       "      <td>5</td>\n",
       "      <td>may</td>\n",
       "      <td>1042</td>\n",
       "      <td>1</td>\n",
       "      <td>-1</td>\n",
       "      <td>0</td>\n",
       "      <td>unknown</td>\n",
       "      <td>yes</td>\n",
       "    </tr>\n",
       "    <tr>\n",
       "      <th>1</th>\n",
       "      <td>56</td>\n",
       "      <td>admin.</td>\n",
       "      <td>married</td>\n",
       "      <td>secondary</td>\n",
       "      <td>no</td>\n",
       "      <td>45</td>\n",
       "      <td>no</td>\n",
       "      <td>no</td>\n",
       "      <td>unknown</td>\n",
       "      <td>5</td>\n",
       "      <td>may</td>\n",
       "      <td>1467</td>\n",
       "      <td>1</td>\n",
       "      <td>-1</td>\n",
       "      <td>0</td>\n",
       "      <td>unknown</td>\n",
       "      <td>yes</td>\n",
       "    </tr>\n",
       "    <tr>\n",
       "      <th>2</th>\n",
       "      <td>41</td>\n",
       "      <td>technician</td>\n",
       "      <td>married</td>\n",
       "      <td>secondary</td>\n",
       "      <td>no</td>\n",
       "      <td>1270</td>\n",
       "      <td>yes</td>\n",
       "      <td>no</td>\n",
       "      <td>unknown</td>\n",
       "      <td>5</td>\n",
       "      <td>may</td>\n",
       "      <td>1389</td>\n",
       "      <td>1</td>\n",
       "      <td>-1</td>\n",
       "      <td>0</td>\n",
       "      <td>unknown</td>\n",
       "      <td>yes</td>\n",
       "    </tr>\n",
       "    <tr>\n",
       "      <th>3</th>\n",
       "      <td>55</td>\n",
       "      <td>services</td>\n",
       "      <td>married</td>\n",
       "      <td>secondary</td>\n",
       "      <td>no</td>\n",
       "      <td>2476</td>\n",
       "      <td>yes</td>\n",
       "      <td>no</td>\n",
       "      <td>unknown</td>\n",
       "      <td>5</td>\n",
       "      <td>may</td>\n",
       "      <td>579</td>\n",
       "      <td>1</td>\n",
       "      <td>-1</td>\n",
       "      <td>0</td>\n",
       "      <td>unknown</td>\n",
       "      <td>yes</td>\n",
       "    </tr>\n",
       "    <tr>\n",
       "      <th>4</th>\n",
       "      <td>54</td>\n",
       "      <td>admin.</td>\n",
       "      <td>married</td>\n",
       "      <td>tertiary</td>\n",
       "      <td>no</td>\n",
       "      <td>184</td>\n",
       "      <td>no</td>\n",
       "      <td>no</td>\n",
       "      <td>unknown</td>\n",
       "      <td>5</td>\n",
       "      <td>may</td>\n",
       "      <td>673</td>\n",
       "      <td>2</td>\n",
       "      <td>-1</td>\n",
       "      <td>0</td>\n",
       "      <td>unknown</td>\n",
       "      <td>yes</td>\n",
       "    </tr>\n",
       "  </tbody>\n",
       "</table>\n",
       "</div>"
      ],
      "text/plain": [
       "   age         job  marital  education default  balance housing loan  contact  \\\n",
       "0   59      admin.  married  secondary      no     2343     yes   no  unknown   \n",
       "1   56      admin.  married  secondary      no       45      no   no  unknown   \n",
       "2   41  technician  married  secondary      no     1270     yes   no  unknown   \n",
       "3   55    services  married  secondary      no     2476     yes   no  unknown   \n",
       "4   54      admin.  married   tertiary      no      184      no   no  unknown   \n",
       "\n",
       "   day month  duration  campaign  pdays  previous poutcome deposit  \n",
       "0    5   may      1042         1     -1         0  unknown     yes  \n",
       "1    5   may      1467         1     -1         0  unknown     yes  \n",
       "2    5   may      1389         1     -1         0  unknown     yes  \n",
       "3    5   may       579         1     -1         0  unknown     yes  \n",
       "4    5   may       673         2     -1         0  unknown     yes  "
      ]
     },
     "execution_count": 24,
     "metadata": {},
     "output_type": "execute_result"
    }
   ],
   "source": [
    "df_o = pd.read_csv(\"data/bank-balanced.csv\")\n",
    "print(df_o.shape)\n",
    "df_o.head()"
   ]
  },
  {
   "cell_type": "code",
   "execution_count": 25,
   "id": "c1692cce",
   "metadata": {},
   "outputs": [
    {
     "data": {
      "text/plain": [
       "Index(['age', 'job', 'marital', 'education', 'default', 'balance', 'housing',\n",
       "       'loan', 'contact', 'day', 'month', 'duration', 'campaign', 'pdays',\n",
       "       'previous', 'poutcome', 'deposit'],\n",
       "      dtype='object')"
      ]
     },
     "execution_count": 25,
     "metadata": {},
     "output_type": "execute_result"
    }
   ],
   "source": [
    "df_o.columns"
   ]
  },
  {
   "cell_type": "code",
   "execution_count": 26,
   "id": "55df3f09",
   "metadata": {},
   "outputs": [],
   "source": [
    "target = 'deposit'\n",
    "numFeatures = ['age', 'balance', 'duration', 'campaign', 'pdays','previous', 'day']\n",
    "catFeatures = ['job', 'marital', 'education', 'default',  'housing', 'loan', 'contact',  'month', 'poutcome']"
   ]
  },
  {
   "cell_type": "code",
   "execution_count": 27,
   "id": "eef042b3",
   "metadata": {},
   "outputs": [
    {
     "data": {
      "text/plain": [
       "0        unknown\n",
       "1        unknown\n",
       "2        unknown\n",
       "3        unknown\n",
       "4        unknown\n",
       "          ...   \n",
       "11157    unknown\n",
       "11158    unknown\n",
       "11159    unknown\n",
       "11160    failure\n",
       "11161    unknown\n",
       "Name: poutcome, Length: 11162, dtype: object"
      ]
     },
     "execution_count": 27,
     "metadata": {},
     "output_type": "execute_result"
    }
   ],
   "source": [
    "df_o[feature]"
   ]
  },
  {
   "cell_type": "code",
   "execution_count": 28,
   "id": "45ab7d76",
   "metadata": {},
   "outputs": [],
   "source": [
    "from sklearn import preprocessing"
   ]
  },
  {
   "cell_type": "code",
   "execution_count": 29,
   "id": "f6ac5595",
   "metadata": {},
   "outputs": [],
   "source": [
    "# Kopiowanie obiektu\n",
    "df = df_o.copy()\n",
    "# Słownik zawieracy mapy\n",
    "mapy = {}\n",
    "for feature in catFeatures:\n",
    "# Iniciujemy obiekt do kodowania, który będzie przechowywał mapę\n",
    "    le = preprocessing.LabelEncoder()\n",
    "# Dopasowujemy kolumnę (tworzymy mapę) i od razu ją nakładamy na zmienną, na której robiliśmy dopasowanie\n",
    "    df[feature] = le.fit_transform(df_o[feature])\n",
    "# Zapisujemy mapę, aby móc odzyskać informację o mapowaniu i oryginalnych wartościach   \n",
    "    mapy[feature] = le"
   ]
  },
  {
   "cell_type": "code",
   "execution_count": 20,
   "id": "66f1b99b",
   "metadata": {},
   "outputs": [
    {
     "name": "stdout",
     "output_type": "stream",
     "text": [
      "['age', 'job', 'marital', 'education', 'default', 'balance', 'housing', 'loan', 'contact', 'day', 'month', 'duration', 'campaign', 'pdays', 'previous', 'poutcome']\n",
      "['age', 'job', 'marital', 'education', 'default', 'balance', 'housing', 'loan', 'contact', 'day', 'month', 'duration', 'campaign', 'pdays', 'previous', 'poutcome', 'deposit']\n",
      "['age', 'job', 'marital', 'education', 'default', 'balance', 'housing', 'loan', 'contact', 'day', 'month', 'duration', 'campaign', 'pdays', 'previous', 'poutcome']\n"
     ]
    }
   ],
   "source": [
    "print(features)\n",
    "features = df.columns.tolist()\n",
    "print(features)\n",
    "features.remove(target)\n",
    "print(features)"
   ]
  },
  {
   "cell_type": "code",
   "execution_count": 32,
   "id": "fcb85cfd",
   "metadata": {},
   "outputs": [
    {
     "name": "stdout",
     "output_type": "stream",
     "text": [
      "['divorced' 'married' 'single']\n",
      "['married' 'married' 'married' ... 'single' 'married' 'married']\n",
      "['married' 'married' 'married' ... 'single' 'married' 'married']\n"
     ]
    }
   ],
   "source": [
    "# Jakie klasy się utworzyły dla zmiennej  married\n",
    "print(mapy['marital'].classes_)\n",
    "# Odwrócenie mapowania\n",
    "print(mapy['marital'].inverse_transform(df['marital']))\n",
    "print(df_o[\"marital\"].values)"
   ]
  },
  {
   "cell_type": "markdown",
   "id": "5714e655",
   "metadata": {},
   "source": [
    "## Przygotowanie wrappera do walidacji krzyżowej\n",
    "Bazujemy na procedurze wykorzystanej do walidacji kNN. \n",
    "Stosujemy:\n",
    "```clf = RandomForestClassifier(*args, **kwargs)``` "
   ]
  },
  {
   "cell_type": "code",
   "execution_count": 38,
   "id": "deb0878f",
   "metadata": {},
   "outputs": [],
   "source": [
    "from sklearn.model_selection import KFold\n",
    "from sklearn import metrics\n",
    "from sklearn.ensemble import RandomForestClassifier\n",
    "from sklearn.metrics import roc_auc_score\n",
    "\n",
    "\n",
    "# Przygotujmy wrapper\n",
    "def CVTestRFClass(nFolds = 5, randomState=2020, debug=False, features=features, *args, **kwargs):\n",
    "    kf = KFold(n_splits=nFolds, shuffle=True, random_state=randomState)\n",
    "\n",
    "    # listy do przechowywania wyników:\n",
    "    testResults = []\n",
    "    trainResults = []\n",
    "    predictions = []\n",
    "    indices = []\n",
    "\n",
    "    # Pętla walidująca model na kolejnych foldach\n",
    "    for train, test in kf.split(df.index.values):\n",
    "        # Przygotowanie estymatora\n",
    "        clf = RandomForestClassifier(*args, **kwargs, random_state=randomState, n_jobs=-1)\n",
    "        if debug:\n",
    "            print(clf)\n",
    "        # Trenowanie modelu\n",
    "        clf.fit(df.iloc[train][features], df.iloc[train][target])\n",
    "\n",
    "        # Przygotowanie prognoz dla zbioru treningowego i testowego\n",
    "        # Sklearn zwraca dwie kolumny prawdopodobieństw dla obydwu klas\n",
    "        predsTrain = clf.predict_proba(df.iloc[train][features])[:,1]\n",
    "        preds = clf.predict_proba(df.iloc[test][features])[:,1]\n",
    "        \n",
    "        # Informacje o predykcjach dla tego foldu\n",
    "        predictions.append(preds.tolist().copy())\n",
    "        \n",
    "        # Indeksy w oryginalnym data frame\n",
    "        indices.append(df.iloc[test].index.tolist().copy())\n",
    "        \n",
    "        # Policzenie dopasowania za pomocą metryki ROC-AUC\n",
    "        trainScore = roc_auc_score((df[target].iloc[train]==\"yes\").astype(int), predsTrain)\n",
    "        testScore = roc_auc_score((df[target].iloc[test]==\"yes\").astype(int), preds)\n",
    "        \n",
    "        # Zapisanie wyników do listy \n",
    "        trainResults.append(trainScore)\n",
    "        testResults.append(testScore)\n",
    "        \n",
    "        # Informowanie o każdym foldzie razem z wynikami treningowymi możemy opcjonalnie wyświetlać w trakcie\n",
    "        if debug:\n",
    "            print(\"Train AUC:\", trainScore,\n",
    "                  \"Valid AUC:\", testScore)\n",
    "        \n",
    "    return trainResults, testResults, predictions, indices\n"
   ]
  },
  {
   "cell_type": "markdown",
   "id": "b8901a9f",
   "metadata": {},
   "source": [
    "## Pierwsze uruchomienie i przegląd hiperparametrów"
   ]
  },
  {
   "cell_type": "code",
   "execution_count": 39,
   "id": "76de9e08",
   "metadata": {},
   "outputs": [
    {
     "name": "stdout",
     "output_type": "stream",
     "text": [
      "RandomForestClassifier(n_jobs=-1, random_state=2020)\n",
      "Train AUC: 1.0 Valid AUC: 0.9120633918342885\n",
      "RandomForestClassifier(n_jobs=-1, random_state=2020)\n",
      "Train AUC: 1.0 Valid AUC: 0.9206705884815203\n",
      "RandomForestClassifier(n_jobs=-1, random_state=2020)\n",
      "Train AUC: 1.0 Valid AUC: 0.9211460733577608\n",
      "RandomForestClassifier(n_jobs=-1, random_state=2020)\n",
      "Train AUC: 1.0 Valid AUC: 0.9108430127451866\n",
      "RandomForestClassifier(n_jobs=-1, random_state=2020)\n",
      "Train AUC: 1.0 Valid AUC: 0.9215899153297145\n",
      "0.9172625963496941\n"
     ]
    }
   ],
   "source": [
    "trainResults, testResults, predictions, indices = CVTestRFClass(debug=True)\n",
    "print(np.mean(testResults))"
   ]
  },
  {
   "cell_type": "markdown",
   "id": "6011ece5",
   "metadata": {},
   "source": [
    "Uzyskanie w każdym przypadku dopasowania 100% na zbiorze treningowym. Drzewa w lesie losowym bardzo mocno się przetrenowywały (dowolna głębokość). Zwiększamy liczbe drzew."
   ]
  },
  {
   "cell_type": "code",
   "execution_count": 40,
   "id": "25ac0287",
   "metadata": {},
   "outputs": [
    {
     "name": "stdout",
     "output_type": "stream",
     "text": [
      "5 0.9967996180817484 0.8781426914084364 0.11865692667331207\n",
      "10 0.9995838573442228 0.8977571818373228 0.10182667550690006\n",
      "25 0.9999872889879888 0.9104520709909532 0.08953521799703568\n",
      "50 0.9999998893082228 0.915498712452151 0.08450117685607184\n",
      "100 1.0 0.9172625963496941 0.08273740365030591\n",
      "200 1.0 0.91835310780829 0.08164689219170995\n",
      "500 1.0 0.9185454575127533 0.0814545424872467\n",
      "1000 1.0 0.9186900993261761 0.08130990067382393\n"
     ]
    }
   ],
   "source": [
    "# Pętla po parametrze n_estimators\n",
    "for k in [5, 10, 25, 50, 100, 200, 500, 1000]:\n",
    "    trainResults, testResults, predictions, indices = CVTestRFClass(n_estimators=k)\n",
    "    print(k, np.mean(trainResults), np.mean(testResults), np.mean(trainResults) - np.mean(testResults))"
   ]
  },
  {
   "cell_type": "markdown",
   "id": "440123e2",
   "metadata": {},
   "source": [
    "Jak widać Random Forest nie przetrenowuje się mocniej wraz ze wzrostem liczby drzew. \n",
    "Są od siebie w pełni niezależne. \n",
    "Jednocześnie obserwujemy malejące krańcowe korzyści płynące z większej liczby drzew. \n",
    "Pozostajemy na 100 drzewach na czas dalszych eksperymentów. "
   ]
  },
  {
   "cell_type": "code",
   "execution_count": 41,
   "id": "addde438",
   "metadata": {},
   "outputs": [
    {
     "name": "stdout",
     "output_type": "stream",
     "text": [
      "2 0.8607333808146999 0.8581649560975702 0.0025684247171297026\n",
      "4 0.8936940355103637 0.8872820188275904 0.006412016682773358\n",
      "6 0.9169055075144918 0.9018813751485426 0.015024132365949239\n",
      "8 0.9425071143421799 0.909976013149403 0.03253110119277691\n",
      "10 0.9674590740898426 0.9149029967758908 0.05255607731395173\n",
      "12 0.9859798340300066 0.9159709344584902 0.07000889957151635\n",
      "14 0.9960079791951113 0.9174383296955 0.07856964949961132\n",
      "16 0.9994779649755341 0.9174648432442097 0.08201312173132436\n",
      "18 0.9999780952041168 0.9174353744197397 0.08254272078437719\n",
      "20 0.9999998994206433 0.9170143607627443 0.08298553865789893\n"
     ]
    }
   ],
   "source": [
    "for k in range(2,22,2):\n",
    "    trainResults, testResults, predictions, indices = CVTestRFClass(n_estimators=100, max_depth=k)\n",
    "    print(k, np.mean(trainResults), np.mean(testResults), np.mean(trainResults) - np.mean(testResults))"
   ]
  },
  {
   "cell_type": "code",
   "execution_count": null,
   "id": "1677b74e",
   "metadata": {},
   "outputs": [],
   "source": []
  },
  {
   "cell_type": "code",
   "execution_count": null,
   "id": "b9be9bea",
   "metadata": {},
   "outputs": [],
   "source": []
  },
  {
   "cell_type": "code",
   "execution_count": null,
   "id": "28618b96",
   "metadata": {},
   "outputs": [],
   "source": []
  }
 ],
 "metadata": {
  "kernelspec": {
   "display_name": "Python 3",
   "language": "python",
   "name": "python3"
  },
  "language_info": {
   "codemirror_mode": {
    "name": "ipython",
    "version": 3
   },
   "file_extension": ".py",
   "mimetype": "text/x-python",
   "name": "python",
   "nbconvert_exporter": "python",
   "pygments_lexer": "ipython3",
   "version": "3.8.8"
  }
 },
 "nbformat": 4,
 "nbformat_minor": 5
}
