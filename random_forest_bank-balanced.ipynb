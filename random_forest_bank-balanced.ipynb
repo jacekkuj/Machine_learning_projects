{
 "cells": [
  {
   "cell_type": "markdown",
   "id": "720b34ce",
   "metadata": {},
   "source": [
    "## Przygotowanie środowiska i danych"
   ]
  },
  {
   "cell_type": "code",
   "execution_count": 43,
   "id": "bd259ed1",
   "metadata": {},
   "outputs": [],
   "source": [
    "import pandas as pd\n",
    "import numpy as np\n",
    "import pickle\n",
    "import statsmodels.api as sm\n",
    "from sklearn import metrics\n",
    "from sklearn import preprocessing\n",
    "import matplotlib.pyplot as plt\n",
    "plt.style.use('seaborn-ticks')\n",
    "%matplotlib inline"
   ]
  },
  {
   "cell_type": "code",
   "execution_count": 44,
   "id": "8c050da1",
   "metadata": {},
   "outputs": [
    {
     "name": "stdout",
     "output_type": "stream",
     "text": [
      "(11162, 17)\n"
     ]
    },
    {
     "data": {
      "text/html": [
       "<div>\n",
       "<style scoped>\n",
       "    .dataframe tbody tr th:only-of-type {\n",
       "        vertical-align: middle;\n",
       "    }\n",
       "\n",
       "    .dataframe tbody tr th {\n",
       "        vertical-align: top;\n",
       "    }\n",
       "\n",
       "    .dataframe thead th {\n",
       "        text-align: right;\n",
       "    }\n",
       "</style>\n",
       "<table border=\"1\" class=\"dataframe\">\n",
       "  <thead>\n",
       "    <tr style=\"text-align: right;\">\n",
       "      <th></th>\n",
       "      <th>age</th>\n",
       "      <th>job</th>\n",
       "      <th>marital</th>\n",
       "      <th>education</th>\n",
       "      <th>default</th>\n",
       "      <th>balance</th>\n",
       "      <th>housing</th>\n",
       "      <th>loan</th>\n",
       "      <th>contact</th>\n",
       "      <th>day</th>\n",
       "      <th>month</th>\n",
       "      <th>duration</th>\n",
       "      <th>campaign</th>\n",
       "      <th>pdays</th>\n",
       "      <th>previous</th>\n",
       "      <th>poutcome</th>\n",
       "      <th>deposit</th>\n",
       "    </tr>\n",
       "  </thead>\n",
       "  <tbody>\n",
       "    <tr>\n",
       "      <th>0</th>\n",
       "      <td>59</td>\n",
       "      <td>admin.</td>\n",
       "      <td>married</td>\n",
       "      <td>secondary</td>\n",
       "      <td>no</td>\n",
       "      <td>2343</td>\n",
       "      <td>yes</td>\n",
       "      <td>no</td>\n",
       "      <td>unknown</td>\n",
       "      <td>5</td>\n",
       "      <td>may</td>\n",
       "      <td>1042</td>\n",
       "      <td>1</td>\n",
       "      <td>-1</td>\n",
       "      <td>0</td>\n",
       "      <td>unknown</td>\n",
       "      <td>yes</td>\n",
       "    </tr>\n",
       "    <tr>\n",
       "      <th>1</th>\n",
       "      <td>56</td>\n",
       "      <td>admin.</td>\n",
       "      <td>married</td>\n",
       "      <td>secondary</td>\n",
       "      <td>no</td>\n",
       "      <td>45</td>\n",
       "      <td>no</td>\n",
       "      <td>no</td>\n",
       "      <td>unknown</td>\n",
       "      <td>5</td>\n",
       "      <td>may</td>\n",
       "      <td>1467</td>\n",
       "      <td>1</td>\n",
       "      <td>-1</td>\n",
       "      <td>0</td>\n",
       "      <td>unknown</td>\n",
       "      <td>yes</td>\n",
       "    </tr>\n",
       "    <tr>\n",
       "      <th>2</th>\n",
       "      <td>41</td>\n",
       "      <td>technician</td>\n",
       "      <td>married</td>\n",
       "      <td>secondary</td>\n",
       "      <td>no</td>\n",
       "      <td>1270</td>\n",
       "      <td>yes</td>\n",
       "      <td>no</td>\n",
       "      <td>unknown</td>\n",
       "      <td>5</td>\n",
       "      <td>may</td>\n",
       "      <td>1389</td>\n",
       "      <td>1</td>\n",
       "      <td>-1</td>\n",
       "      <td>0</td>\n",
       "      <td>unknown</td>\n",
       "      <td>yes</td>\n",
       "    </tr>\n",
       "    <tr>\n",
       "      <th>3</th>\n",
       "      <td>55</td>\n",
       "      <td>services</td>\n",
       "      <td>married</td>\n",
       "      <td>secondary</td>\n",
       "      <td>no</td>\n",
       "      <td>2476</td>\n",
       "      <td>yes</td>\n",
       "      <td>no</td>\n",
       "      <td>unknown</td>\n",
       "      <td>5</td>\n",
       "      <td>may</td>\n",
       "      <td>579</td>\n",
       "      <td>1</td>\n",
       "      <td>-1</td>\n",
       "      <td>0</td>\n",
       "      <td>unknown</td>\n",
       "      <td>yes</td>\n",
       "    </tr>\n",
       "    <tr>\n",
       "      <th>4</th>\n",
       "      <td>54</td>\n",
       "      <td>admin.</td>\n",
       "      <td>married</td>\n",
       "      <td>tertiary</td>\n",
       "      <td>no</td>\n",
       "      <td>184</td>\n",
       "      <td>no</td>\n",
       "      <td>no</td>\n",
       "      <td>unknown</td>\n",
       "      <td>5</td>\n",
       "      <td>may</td>\n",
       "      <td>673</td>\n",
       "      <td>2</td>\n",
       "      <td>-1</td>\n",
       "      <td>0</td>\n",
       "      <td>unknown</td>\n",
       "      <td>yes</td>\n",
       "    </tr>\n",
       "  </tbody>\n",
       "</table>\n",
       "</div>"
      ],
      "text/plain": [
       "   age         job  marital  education default  balance housing loan  contact  \\\n",
       "0   59      admin.  married  secondary      no     2343     yes   no  unknown   \n",
       "1   56      admin.  married  secondary      no       45      no   no  unknown   \n",
       "2   41  technician  married  secondary      no     1270     yes   no  unknown   \n",
       "3   55    services  married  secondary      no     2476     yes   no  unknown   \n",
       "4   54      admin.  married   tertiary      no      184      no   no  unknown   \n",
       "\n",
       "   day month  duration  campaign  pdays  previous poutcome deposit  \n",
       "0    5   may      1042         1     -1         0  unknown     yes  \n",
       "1    5   may      1467         1     -1         0  unknown     yes  \n",
       "2    5   may      1389         1     -1         0  unknown     yes  \n",
       "3    5   may       579         1     -1         0  unknown     yes  \n",
       "4    5   may       673         2     -1         0  unknown     yes  "
      ]
     },
     "execution_count": 44,
     "metadata": {},
     "output_type": "execute_result"
    }
   ],
   "source": [
    "df_o = pd.read_csv(\"data/bank-balanced.csv\")\n",
    "print(df_o.shape)\n",
    "df_o.head()"
   ]
  },
  {
   "cell_type": "code",
   "execution_count": 45,
   "id": "2f3a7826",
   "metadata": {},
   "outputs": [
    {
     "data": {
      "text/plain": [
       "Index(['age', 'job', 'marital', 'education', 'default', 'balance', 'housing',\n",
       "       'loan', 'contact', 'day', 'month', 'duration', 'campaign', 'pdays',\n",
       "       'previous', 'poutcome', 'deposit'],\n",
       "      dtype='object')"
      ]
     },
     "execution_count": 45,
     "metadata": {},
     "output_type": "execute_result"
    }
   ],
   "source": [
    "df_o.columns"
   ]
  },
  {
   "cell_type": "code",
   "execution_count": 46,
   "id": "a9d8d8b6",
   "metadata": {},
   "outputs": [],
   "source": [
    "target = 'deposit'\n",
    "numFeatures = ['age', 'balance', 'duration', 'campaign', 'pdays','previous', 'day']\n",
    "catFeatures = ['job', 'marital', 'education', 'default',  'housing', 'loan', 'contact',  'month', 'poutcome']"
   ]
  },
  {
   "cell_type": "code",
   "execution_count": 47,
   "id": "4f851ea7",
   "metadata": {},
   "outputs": [],
   "source": [
    "# Kopiowanie obiektu\n",
    "df = df_o.copy()\n",
    "# Słownik zawieracy mapy\n",
    "mapy = {}\n",
    "for feature in catFeatures:\n",
    "# Obiekt do kodowania, który będzie przechowywał mapę\n",
    "    le = preprocessing.LabelEncoder()\n",
    "# Kolumna (tworzymy mapę) i od razu ją nakładamy na zmienną, na której robiliśmy dopasowanie\n",
    "    df[feature] = le.fit_transform(df_o[feature])\n",
    "# Mapa, aby móc odzyskać informację o mapowaniu i oryginalnych wartościach   \n",
    "    mapy[feature] = le"
   ]
  },
  {
   "cell_type": "code",
   "execution_count": 48,
   "id": "3151591c",
   "metadata": {},
   "outputs": [
    {
     "name": "stdout",
     "output_type": "stream",
     "text": [
      "['age', 'job', 'marital', 'education', 'default', 'balance', 'housing', 'loan', 'contact', 'day', 'month', 'duration', 'campaign', 'pdays', 'previous', 'poutcome']\n"
     ]
    }
   ],
   "source": [
    "features = df.columns.tolist()\n",
    "features.remove(target)\n",
    "print(features)"
   ]
  },
  {
   "cell_type": "code",
   "execution_count": 49,
   "id": "eacc68d1",
   "metadata": {},
   "outputs": [
    {
     "name": "stdout",
     "output_type": "stream",
     "text": [
      "['divorced' 'married' 'single']\n",
      "['married' 'married' 'married' ... 'single' 'married' 'married']\n",
      "['married' 'married' 'married' ... 'single' 'married' 'married']\n"
     ]
    }
   ],
   "source": [
    "# Jakie klasy się utworzyły dla zmiennej  married\n",
    "print(mapy['marital'].classes_)\n",
    "# Odwrócenie mapowania\n",
    "print(mapy['marital'].inverse_transform(df['marital']))\n",
    "print(df_o[\"marital\"].values)"
   ]
  },
  {
   "cell_type": "markdown",
   "id": "8b63ff81",
   "metadata": {},
   "source": [
    "## Przygotowanie wrappera do walidacji krzyżowej\n",
    "Bazujemy na procedurze wykorzystanej do walidacji kNN. \n",
    "Stosujemy:\n",
    "```clf = RandomForestClassifier(*args, **kwargs)``` "
   ]
  },
  {
   "cell_type": "code",
   "execution_count": 50,
   "id": "32732959",
   "metadata": {},
   "outputs": [],
   "source": [
    "from sklearn.model_selection import KFold\n",
    "from sklearn import metrics\n",
    "from sklearn.ensemble import RandomForestClassifier\n",
    "from sklearn.metrics import roc_auc_score\n",
    "\n",
    "\n",
    "# Przygotujmy wrapper\n",
    "def CVTestRFClass(nFolds = 5, randomState=2020, debug=False, features=features, *args, **kwargs):\n",
    "    kf = KFold(n_splits=nFolds, shuffle=True, random_state=randomState)\n",
    "\n",
    "    # listy do przechowywania wyników:\n",
    "    testResults = []\n",
    "    trainResults = []\n",
    "    predictions = []\n",
    "    indices = []\n",
    "\n",
    "    # Pętla walidująca model na kolejnych foldach\n",
    "    for train, test in kf.split(df.index.values):\n",
    "        # Przygotowanie estymatora\n",
    "        clf = RandomForestClassifier(*args, **kwargs, random_state=randomState, n_jobs=-1)\n",
    "        if debug:\n",
    "            print(clf)\n",
    "        # Trenowanie modelu\n",
    "        clf.fit(df.iloc[train][features], df.iloc[train][target])\n",
    "\n",
    "        # Przygotowanie prognoz dla zbioru treningowego i testowego\n",
    "        # Sklearn zwraca dwie kolumny prawdopodobieństw dla obydwu klas\n",
    "        predsTrain = clf.predict_proba(df.iloc[train][features])[:,1]\n",
    "        preds = clf.predict_proba(df.iloc[test][features])[:,1]\n",
    "        \n",
    "        # Informacje o predykcjach dla tego foldu\n",
    "        predictions.append(preds.tolist().copy())\n",
    "        \n",
    "        # Indeksy w oryginalnym data frame\n",
    "        indices.append(df.iloc[test].index.tolist().copy())\n",
    "        \n",
    "        # Policzenie dopasowania za pomocą metryki ROC-AUC\n",
    "        trainScore = roc_auc_score((df[target].iloc[train]==\"yes\").astype(int), predsTrain)\n",
    "        testScore = roc_auc_score((df[target].iloc[test]==\"yes\").astype(int), preds)\n",
    "        \n",
    "        # Zapisanie wyników do listy \n",
    "        trainResults.append(trainScore)\n",
    "        testResults.append(testScore)\n",
    "        \n",
    "        # Informowanie o każdym foldzie razem z wynikami treningowymi możemy opcjonalnie wyświetlać w trakcie\n",
    "        if debug:\n",
    "            print(\"Train AUC:\", trainScore,\n",
    "                  \"Valid AUC:\", testScore)\n",
    "        \n",
    "    return trainResults, testResults, predictions, indices\n"
   ]
  },
  {
   "cell_type": "markdown",
   "id": "bfc5ab84",
   "metadata": {},
   "source": [
    "## Pierwsze uruchomienie i przegląd hiperparametrów"
   ]
  },
  {
   "cell_type": "code",
   "execution_count": 51,
   "id": "12ab14b4",
   "metadata": {},
   "outputs": [
    {
     "name": "stdout",
     "output_type": "stream",
     "text": [
      "RandomForestClassifier(n_jobs=-1, random_state=2020)\n",
      "Train AUC: 1.0 Valid AUC: 0.9120633918342885\n",
      "RandomForestClassifier(n_jobs=-1, random_state=2020)\n",
      "Train AUC: 1.0 Valid AUC: 0.9206705884815203\n",
      "RandomForestClassifier(n_jobs=-1, random_state=2020)\n",
      "Train AUC: 1.0 Valid AUC: 0.9211460733577608\n",
      "RandomForestClassifier(n_jobs=-1, random_state=2020)\n",
      "Train AUC: 1.0 Valid AUC: 0.9108430127451866\n",
      "RandomForestClassifier(n_jobs=-1, random_state=2020)\n",
      "Train AUC: 1.0 Valid AUC: 0.9215899153297145\n",
      "0.9172625963496941\n"
     ]
    }
   ],
   "source": [
    "trainResults, testResults, predictions, indices = CVTestRFClass(debug=True)\n",
    "print(np.mean(testResults))"
   ]
  },
  {
   "cell_type": "markdown",
   "id": "20b754d9",
   "metadata": {},
   "source": [
    "Uzyskanie w każdym przypadku dopasowania 100% na zbiorze treningowym. Drzewa w lesie losowym bardzo mocno się przetrenowywały (dowolna głębokość). Zwiększamy liczbe drzew."
   ]
  },
  {
   "cell_type": "code",
   "execution_count": 52,
   "id": "5f224bdc",
   "metadata": {},
   "outputs": [
    {
     "name": "stdout",
     "output_type": "stream",
     "text": [
      "5 0.9967996180817484 0.8781426914084364 0.11865692667331207\n",
      "10 0.9995838573442228 0.8977571818373228 0.10182667550690006\n",
      "25 0.9999872889879888 0.9104520709909532 0.08953521799703568\n",
      "50 0.9999998893082228 0.915498712452151 0.08450117685607184\n",
      "100 1.0 0.9172625963496941 0.08273740365030591\n",
      "200 1.0 0.91835310780829 0.08164689219170995\n",
      "500 1.0 0.9185454575127533 0.0814545424872467\n",
      "1000 1.0 0.9186900993261761 0.08130990067382393\n"
     ]
    }
   ],
   "source": [
    "# Pętla po parametrze n_estimators\n",
    "for k in [5, 10, 25, 50, 100, 200, 500, 1000]:\n",
    "    trainResults, testResults, predictions, indices = CVTestRFClass(n_estimators=k)\n",
    "    print(k, np.mean(trainResults), np.mean(testResults), np.mean(trainResults) - np.mean(testResults))"
   ]
  },
  {
   "cell_type": "markdown",
   "id": "39e35963",
   "metadata": {},
   "source": [
    "Random Forest nie przetrenowuje się mocniej wraz ze wzrostem liczby drzew. \n",
    "Są od siebie w pełni niezależne. \n",
    "Obserwujemy malejące krańcowe korzyści płynące z większej liczby drzew. \n",
    "Pozostajemy na 100 drzewach. "
   ]
  },
  {
   "cell_type": "code",
   "execution_count": 53,
   "id": "e389fbae",
   "metadata": {},
   "outputs": [
    {
     "name": "stdout",
     "output_type": "stream",
     "text": [
      "2 0.8607333808146999 0.8581649560975702 0.0025684247171297026\n",
      "4 0.8936940355103637 0.8872820188275904 0.006412016682773358\n",
      "6 0.9169055075144918 0.9018813751485426 0.015024132365949239\n",
      "8 0.9425071143421799 0.909976013149403 0.03253110119277691\n",
      "10 0.9674590740898426 0.9149029967758908 0.05255607731395173\n",
      "12 0.9859798340300066 0.9159709344584902 0.07000889957151635\n",
      "14 0.9960079791951113 0.9174383296955 0.07856964949961132\n",
      "16 0.9994779649755341 0.9174648432442097 0.08201312173132436\n",
      "18 0.9999780952041168 0.9174353744197397 0.08254272078437719\n",
      "20 0.9999998994206433 0.9170143607627443 0.08298553865789893\n"
     ]
    }
   ],
   "source": [
    "for k in range(2,22,2):\n",
    "    trainResults, testResults, predictions, indices = CVTestRFClass(n_estimators=100, max_depth=k)\n",
    "    print(k, np.mean(trainResults), np.mean(testResults), np.mean(trainResults) - np.mean(testResults))"
   ]
  },
  {
   "cell_type": "markdown",
   "id": "8ac9f17e",
   "metadata": {},
   "source": [
    "Algorytm skutecznie korzysta nawet z bardzo głębkoich drzew. Wraz ze zwiększaniem głębokości drzew zwiększa się przetrenowanie modelu. Przyjrzyjmy się kolejnemu hiperparametrowi - liczby zmiennych w pojedynczym drzewie: algorytm automatycznie ograniczy liczbę zmiennych na dane drzewo ustalać liczbę jako ```sqrt(n_features)```."
   ]
  },
  {
   "cell_type": "code",
   "execution_count": 77,
   "id": "f6d18bca",
   "metadata": {},
   "outputs": [
    {
     "name": "stdout",
     "output_type": "stream",
     "text": [
      "16\n"
     ]
    }
   ],
   "source": [
    "# lizczba zmiennych objaśniających\n",
    "print(len(features))"
   ]
  },
  {
   "cell_type": "code",
   "execution_count": 78,
   "id": "54996f9f",
   "metadata": {},
   "outputs": [
    {
     "name": "stdout",
     "output_type": "stream",
     "text": [
      "2 0.9604447494954463 0.9094263605997155 0.05101838889573085\n",
      "4 0.9674590740898426 0.9149029967758908 0.05255607731395173\n",
      "6 0.9709138547314892 0.9142296636086881 0.0566841911228011\n",
      "8 0.9726111836963962 0.9140343949185187 0.05857678877787753\n",
      "10 0.9739197094454465 0.9133126989614219 0.060607010484024615\n",
      "12 0.9744041433638652 0.9133894908673452 0.06101465249651994\n",
      "14 0.9746075510524485 0.9130150318445273 0.06159251920792119\n",
      "16 0.9746680926925398 0.9124576482662009 0.06221044442633894\n"
     ]
    }
   ],
   "source": [
    "for k in range(2, len(features) + 1,2):\n",
    "    trainResults, testResults, predictions, indices = CVTestRFClass(n_estimators=100, max_depth=10,\n",
    "                                                                    max_features=k)\n",
    "    print(k, np.mean(trainResults), np.mean(testResults), np.mean(trainResults) - np.mean(testResults))"
   ]
  },
  {
   "cell_type": "markdown",
   "id": "f83e00c0",
   "metadata": {},
   "source": [
    "Reguła kciuka (4 zmienne)! W dwóch kolejnych pętlach sprawdzamy działanie `min_samples_split` oraz `min_samples_leaf`."
   ]
  },
  {
   "cell_type": "code",
   "execution_count": 79,
   "id": "732b6874",
   "metadata": {},
   "outputs": [
    {
     "name": "stdout",
     "output_type": "stream",
     "text": [
      "2 0.9149029967758908\n",
      "4 0.9140411035587169\n",
      "6 0.9146729120724991\n",
      "8 0.9141739815122089\n",
      "10 0.9140204901812657\n",
      "15 0.9142799998393369\n",
      "20 0.9138048035472158\n",
      "30 0.9132202007513776\n"
     ]
    }
   ],
   "source": [
    "for k in [2, 4, 6, 8, 10, 15, 20, 30]:\n",
    "    trainResults, testResults, predictions, indices = CVTestRFClass(n_estimators=100, max_depth=10,\n",
    "                                                                    max_features=4,\n",
    "                                                                    min_samples_split=k)\n",
    "    print(k, np.mean(testResults))"
   ]
  },
  {
   "cell_type": "markdown",
   "id": "ecc72c61",
   "metadata": {},
   "source": [
    "Testujemy wyłącznie wartości 1 i 2."
   ]
  },
  {
   "cell_type": "code",
   "execution_count": 80,
   "id": "2c361c32",
   "metadata": {},
   "outputs": [
    {
     "name": "stdout",
     "output_type": "stream",
     "text": [
      "1 0.9146729120724991\n",
      "2 0.9137833871964226\n",
      "4 0.913460125361396\n"
     ]
    }
   ],
   "source": [
    "for k in [1, 2, 4]:\n",
    "    trainResults, testResults, predictions, indices = CVTestRFClass(n_estimators=100, max_depth=10,\n",
    "                                                                    max_features=4,\n",
    "                                                                    min_samples_split=6, min_samples_leaf=k)\n",
    "    print(k, np.mean(testResults))"
   ]
  },
  {
   "cell_type": "markdown",
   "id": "029c0b22",
   "metadata": {},
   "source": [
    "Najlepszy wynik - przy głębokości 20, maksymalnej liczbie featerów 4, obserwacji przed splitem 4 i min w liściu po splicie 1. Dla tych parametrów (ale większej liczby drzew) zapisujemy predykcje  modelu i porównujemy z wczesniejszymi wynikami."
   ]
  },
  {
   "cell_type": "code",
   "execution_count": 104,
   "id": "9a117b1c",
   "metadata": {},
   "outputs": [
    {
     "name": "stdout",
     "output_type": "stream",
     "text": [
      "k:  (0        1\n",
      "1        1\n",
      "2        1\n",
      "3        1\n",
      "4        1\n",
      "        ..\n",
      "11157    0\n",
      "11158    0\n",
      "11159    0\n",
      "11160    0\n",
      "11161    0\n",
      "Name: deposit, Length: 11162, dtype: int32, 0        1\n",
      "1        1\n",
      "2        1\n",
      "3        1\n",
      "4        1\n",
      "        ..\n",
      "11157    0\n",
      "11158    0\n",
      "11159    0\n",
      "11160    0\n",
      "11161    0\n",
      "Name: deposit, Length: 11162, dtype: int32) np.mean:  0.9146164442559062\n"
     ]
    }
   ],
   "source": [
    "trainResults, testResults, predictions, indices = CVTestRFClass(n_estimators=200, max_depth=10,\n",
    "                                                                    max_features=4,\n",
    "                                                                    min_samples_split=4, min_samples_leaf=1)\n",
    "print(\"k: \", k, \"np.mean: \", np.mean(testResults))\n",
    "\n",
    "modelRF = {\n",
    "    \"name\":\"RF\",\n",
    "    \"description\":\"Model RF, ze zmiennymi kategorycznymi z LE\",\n",
    "    \"specification\":'n_estimators=500, max_depth=20, max_features=4, min_samples_split=4, min_samples_leaf=1',\n",
    "    \"trainResults\":trainResults.copy(),\n",
    "    \"testResults\":testResults.copy(),\n",
    "    \"predictions\":predictions.copy(),\n",
    "    \"indices\":indices.copy(),\n",
    "}"
   ]
  },
  {
   "cell_type": "code",
   "execution_count": 105,
   "id": "35416d76",
   "metadata": {},
   "outputs": [],
   "source": [
    "import pickle\n",
    "\n",
    "# Otwieramy plik do zapisu binarnego z wykorzystenim with\n",
    "with open(\"model_RF_1.p\", \"wb\") as fp:\n",
    "    # Zapisujemy obiekt do wskaźnika pliku\n",
    "    pickle.dump(modelRF, fp)\n",
    "    \n",
    "# Wczytajmy też wcześniej zapisane modele\n",
    "with open(\"model_ekonometria_1.p\", \"rb\") as fp:\n",
    "    modelEkonometria = pickle.load(fp)\n",
    "    \n",
    "with open(\"model_svm_1.p\", \"rb\") as fp:\n",
    "    modelSVM = pickle.load(fp)\n",
    "    \n",
    "with open(\"model_kNN_1.p\", \"rb\") as fp:\n",
    "    modelkNN = pickle.load(fp)"
   ]
  },
  {
   "cell_type": "code",
   "execution_count": 106,
   "id": "479f48b6",
   "metadata": {},
   "outputs": [],
   "source": [
    "from sklearn.metrics import roc_curve, roc_auc_score\n",
    "\n",
    "def plotROCs(results):\n",
    "    ''' Funkcja, do rysowania szeregu wyników krzywych ROC dla poszczególnych eksperymentów\n",
    "    results - lista wyników jako 3 elementowe tuple (true, pred, label)\n",
    "    '''\n",
    "    \n",
    "    # Ustalanie wielkości rysunku\n",
    "    fig, ax = plt.subplots(figsize=(10,9))\n",
    "        \n",
    "    for true, pred, label in results:\n",
    "        # Obliczenie punktów potrzebnych do narysowani akrzywej ROC\n",
    "        # funkcja roc_curve zwarca trzy serie danych, fpr, tpr oraz poziomy progów odcięcia\n",
    "        fpr, tpr, thresholds = roc_curve(true, pred)\n",
    "        # Obliczamy pole powierzchni pod krzywą\n",
    "        rocScore = roc_auc_score(true, pred)\n",
    "        rocScore = round(rocScore, 3)\n",
    "        # Rysujemy krzywą ROC\n",
    "        ax.plot(fpr, tpr, lw=2, label=f'{label}: {rocScore}')\n",
    "        \n",
    "    # Krzywa 45 stopni jako punkt odniesienia\n",
    "    ax.plot([0, 1], [0, 1], color='navy', lw=2, linestyle='--')\n",
    "    # Marginesy do zakresu, aby krzywa nie pokrywała się z osiami\n",
    "    ax.set_xlim([-0.01, 1.0])\n",
    "    ax.set_ylim([0.0, 1.01])\n",
    "    ax.set_xlabel('False Positive Rate')\n",
    "    ax.set_ylabel('True Positive Rate')\n",
    "    ax.set_title(f'Receiver operating characteristic - {rocScore}')\n",
    "    ax.legend(loc=\"lower right\")\n",
    "    plt.show()\n"
   ]
  },
  {
   "cell_type": "code",
   "execution_count": 107,
   "id": "e938645c",
   "metadata": {},
   "outputs": [
    {
     "data": {
      "image/png": "[encoded data removed]",
      "text/plain": [
       "<Figure size 720x648 with 1 Axes>"
      ]
     },
     "metadata": {
      "needs_background": "light"
     },
     "output_type": "display_data"
    }
   ],
   "source": [
    "res2plot = []\n",
    "true = (df[target]==\"yes\").astype(int).sort_index()\n",
    "for result in [modelRF, modelkNN]:\n",
    "    # Tworzymy wektor predykcji tworząc serię pandasa, a następnie sortujemy indeks\n",
    "    pred = pd.Series(sum(result[\"predictions\"], []), index=sum(result[\"indices\"], [])).sort_index()\n",
    "    res2plot.append((true, pred, result[\"name\"]))\n",
    "    \n",
    "# Wywołujemy funkcję do rysowania\n",
    "plotROCs(res2plot)"
   ]
  },
  {
   "cell_type": "markdown",
   "id": "c787858b",
   "metadata": {},
   "source": [
    "## Szukanie optymalnych wartości hiperparametrów"
   ]
  },
  {
   "cell_type": "code",
   "execution_count": 115,
   "id": "4323b1db",
   "metadata": {},
   "outputs": [],
   "source": [
    "# Przygotowujemy listę do zapisywnia wyników\n",
    "results = []"
   ]
  },
  {
   "cell_type": "code",
   "execution_count": 116,
   "id": "862ed156",
   "metadata": {},
   "outputs": [
    {
     "name": "stdout",
     "output_type": "stream",
     "text": [
      "{'max_depth': 18, 'max_features': 6, 'min_samples_split': 9, 'min_samples_leaf': 9} 0.9158512687744803\n",
      "{'max_depth': 21, 'max_features': 4, 'min_samples_split': 4, 'min_samples_leaf': 3} 0.9174611248069485\n",
      "{'max_depth': 8, 'max_features': 6, 'min_samples_split': 7, 'min_samples_leaf': 4} 0.9098282063185275\n",
      "{'max_depth': 16, 'max_features': 8, 'min_samples_split': 6, 'min_samples_leaf': 4} 0.9182867172597529\n",
      "{'max_depth': 10, 'max_features': 9, 'min_samples_split': 8, 'min_samples_leaf': 8} 0.913658516796367\n",
      "{'max_depth': 16, 'max_features': 2, 'min_samples_split': 5, 'min_samples_leaf': 5} 0.9113370628486124\n",
      "{'max_depth': 21, 'max_features': 10, 'min_samples_split': 7, 'min_samples_leaf': 5} 0.9172274280466859\n",
      "{'max_depth': 18, 'max_features': 8, 'min_samples_split': 9, 'min_samples_leaf': 6} 0.916119110482757\n",
      "{'max_depth': 8, 'max_features': 10, 'min_samples_split': 9, 'min_samples_leaf': 6} 0.9092050034900773\n",
      "{'max_depth': 18, 'max_features': 7, 'min_samples_split': 3, 'min_samples_leaf': 1} 0.917749253255654\n",
      "{'max_depth': 7, 'max_features': 8, 'min_samples_split': 7, 'min_samples_leaf': 7} 0.9061570587778995\n",
      "\n",
      " Top 5:\n",
      "{'max_depth': 16, 'max_features': 8, 'min_samples_split': 6, 'min_samples_leaf': 4} 0.9182867172597529\n",
      "{'max_depth': 18, 'max_features': 7, 'min_samples_split': 3, 'min_samples_leaf': 1} 0.917749253255654\n",
      "{'max_depth': 21, 'max_features': 4, 'min_samples_split': 4, 'min_samples_leaf': 3} 0.9174611248069485\n",
      "{'max_depth': 21, 'max_features': 10, 'min_samples_split': 7, 'min_samples_leaf': 5} 0.9172274280466859\n",
      "{'max_depth': 18, 'max_features': 8, 'min_samples_split': 9, 'min_samples_leaf': 6} 0.916119110482757\n",
      "\n",
      "{'max_depth': 12, 'max_features': 3, 'min_samples_split': 2, 'min_samples_leaf': 2} 0.9150619040806998\n",
      "{'max_depth': 21, 'max_features': 2, 'min_samples_split': 6, 'min_samples_leaf': 5} 0.9109264709772077\n",
      "{'max_depth': 17, 'max_features': 6, 'min_samples_split': 7, 'min_samples_leaf': 2} 0.9177826812773319\n",
      "{'max_depth': 13, 'max_features': 12, 'min_samples_split': 3, 'min_samples_leaf': 3} 0.9169751419332328\n",
      "{'max_depth': 16, 'max_features': 12, 'min_samples_split': 9, 'min_samples_leaf': 4} 0.9169519127402426\n",
      "{'max_depth': 22, 'max_features': 2, 'min_samples_split': 5, 'min_samples_leaf': 1} 0.91530192658971\n",
      "{'max_depth': 18, 'max_features': 10, 'min_samples_split': 2, 'min_samples_leaf': 2} 0.9162584382774697\n",
      "{'max_depth': 7, 'max_features': 9, 'min_samples_split': 8, 'min_samples_leaf': 8} 0.905616108533712\n",
      "{'max_depth': 19, 'max_features': 3, 'min_samples_split': 7, 'min_samples_leaf': 3} 0.9165851368853899\n",
      "{'max_depth': 10, 'max_features': 7, 'min_samples_split': 7, 'min_samples_leaf': 1} 0.9141791305544483\n",
      "\n",
      " Top 5:\n",
      "{'max_depth': 16, 'max_features': 8, 'min_samples_split': 6, 'min_samples_leaf': 4} 0.9182867172597529\n",
      "{'max_depth': 17, 'max_features': 6, 'min_samples_split': 7, 'min_samples_leaf': 2} 0.9177826812773319\n",
      "{'max_depth': 18, 'max_features': 7, 'min_samples_split': 3, 'min_samples_leaf': 1} 0.917749253255654\n",
      "{'max_depth': 21, 'max_features': 4, 'min_samples_split': 4, 'min_samples_leaf': 3} 0.9174611248069485\n",
      "{'max_depth': 21, 'max_features': 10, 'min_samples_split': 7, 'min_samples_leaf': 5} 0.9172274280466859\n",
      "\n",
      "{'max_depth': 13, 'max_features': 9, 'min_samples_split': 3, 'min_samples_leaf': 3} 0.9171856889932692\n",
      "{'max_depth': 14, 'max_features': 5, 'min_samples_split': 4, 'min_samples_leaf': 4} 0.9178080864968061\n",
      "{'max_depth': 16, 'max_features': 8, 'min_samples_split': 2, 'min_samples_leaf': 1} 0.9157130466231213\n",
      "{'max_depth': 20, 'max_features': 2, 'min_samples_split': 5, 'min_samples_leaf': 2} 0.9137943444420692\n",
      "{'max_depth': 7, 'max_features': 7, 'min_samples_split': 7, 'min_samples_leaf': 1} 0.9061027128630824\n",
      "{'max_depth': 12, 'max_features': 12, 'min_samples_split': 5, 'min_samples_leaf': 5} 0.9159389792025582\n",
      "{'max_depth': 10, 'max_features': 8, 'min_samples_split': 7, 'min_samples_leaf': 7} 0.9140258846680789\n",
      "{'max_depth': 6, 'max_features': 3, 'min_samples_split': 7, 'min_samples_leaf': 6} 0.8994103533476417\n",
      "{'max_depth': 14, 'max_features': 11, 'min_samples_split': 5, 'min_samples_leaf': 1} 0.9156430058567706\n",
      "{'max_depth': 14, 'max_features': 11, 'min_samples_split': 9, 'min_samples_leaf': 8} 0.9153640954532232\n",
      "\n",
      " Top 5:\n",
      "{'max_depth': 16, 'max_features': 8, 'min_samples_split': 6, 'min_samples_leaf': 4} 0.9182867172597529\n",
      "{'max_depth': 14, 'max_features': 5, 'min_samples_split': 4, 'min_samples_leaf': 4} 0.9178080864968061\n",
      "{'max_depth': 17, 'max_features': 6, 'min_samples_split': 7, 'min_samples_leaf': 2} 0.9177826812773319\n",
      "{'max_depth': 18, 'max_features': 7, 'min_samples_split': 3, 'min_samples_leaf': 1} 0.917749253255654\n",
      "{'max_depth': 21, 'max_features': 4, 'min_samples_split': 4, 'min_samples_leaf': 3} 0.9174611248069485\n",
      "\n",
      "{'max_depth': 17, 'max_features': 8, 'min_samples_split': 9, 'min_samples_leaf': 2} 0.9180272499322205\n",
      "{'max_depth': 6, 'max_features': 10, 'min_samples_split': 3, 'min_samples_leaf': 2} 0.9009242311214214\n",
      "{'max_depth': 21, 'max_features': 12, 'min_samples_split': 8, 'min_samples_leaf': 1} 0.9156226988497874\n",
      "{'max_depth': 15, 'max_features': 2, 'min_samples_split': 4, 'min_samples_leaf': 1} 0.9144534746276799\n",
      "{'max_depth': 18, 'max_features': 6, 'min_samples_split': 6, 'min_samples_leaf': 3} 0.9175672608485114\n",
      "{'max_depth': 20, 'max_features': 8, 'min_samples_split': 3, 'min_samples_leaf': 1} 0.9170827055702503\n",
      "{'max_depth': 10, 'max_features': 11, 'min_samples_split': 4, 'min_samples_leaf': 4} 0.9140175336378824\n",
      "{'max_depth': 11, 'max_features': 9, 'min_samples_split': 8, 'min_samples_leaf': 3} 0.9154928803548256\n",
      "{'max_depth': 19, 'max_features': 10, 'min_samples_split': 8, 'min_samples_leaf': 4} 0.9168361827309953\n",
      "{'max_depth': 16, 'max_features': 9, 'min_samples_split': 2, 'min_samples_leaf': 2} 0.916954896775044\n",
      "\n",
      " Top 5:\n",
      "{'max_depth': 16, 'max_features': 8, 'min_samples_split': 6, 'min_samples_leaf': 4} 0.9182867172597529\n",
      "{'max_depth': 17, 'max_features': 8, 'min_samples_split': 9, 'min_samples_leaf': 2} 0.9180272499322205\n",
      "{'max_depth': 14, 'max_features': 5, 'min_samples_split': 4, 'min_samples_leaf': 4} 0.9178080864968061\n",
      "{'max_depth': 17, 'max_features': 6, 'min_samples_split': 7, 'min_samples_leaf': 2} 0.9177826812773319\n",
      "{'max_depth': 18, 'max_features': 7, 'min_samples_split': 3, 'min_samples_leaf': 1} 0.917749253255654\n",
      "\n",
      "{'max_depth': 19, 'max_features': 6, 'min_samples_split': 3, 'min_samples_leaf': 1} 0.9174019972386873\n",
      "{'max_depth': 18, 'max_features': 8, 'min_samples_split': 8, 'min_samples_leaf': 5} 0.9176201209017394\n",
      "{'max_depth': 15, 'max_features': 8, 'min_samples_split': 6, 'min_samples_leaf': 2} 0.9175760916302108\n",
      "{'max_depth': 18, 'max_features': 7, 'min_samples_split': 2, 'min_samples_leaf': 2} 0.9170543870667386\n",
      "{'max_depth': 20, 'max_features': 12, 'min_samples_split': 3, 'min_samples_leaf': 1} 0.914604529123085\n",
      "{'max_depth': 9, 'max_features': 7, 'min_samples_split': 9, 'min_samples_leaf': 8} 0.9111641012605304\n",
      "{'max_depth': 18, 'max_features': 5, 'min_samples_split': 4, 'min_samples_leaf': 4} 0.9170202321584396\n",
      "{'max_depth': 13, 'max_features': 2, 'min_samples_split': 7, 'min_samples_leaf': 4} 0.9115410315675365\n",
      "{'max_depth': 15, 'max_features': 9, 'min_samples_split': 4, 'min_samples_leaf': 3} 0.9171429935072994\n"
     ]
    }
   ],
   "source": [
    "import random\n",
    "# Petla, w której będziemy iterować kolejne wyszukiwania.\n",
    "for k in range(50):\n",
    "    # Słownik parametrów\n",
    "    # Jako punkt odniesienia do wybranych przedziałów posłużą wcześniejsze wyniki\n",
    "    params = {\n",
    "        \"max_depth\" : random.randint(6, 22),\n",
    "        \"max_features\" : random.randint(2, 12),\n",
    "        \"min_samples_split\" : random.randint(2, 9),\n",
    "    }\n",
    "    # Wartość min_samples_leaf musi być mniejsza niż min_samples_split\n",
    "    params[\"min_samples_leaf\"] = random.randint(1, params[\"min_samples_split\"])\n",
    "    \n",
    "    # Estymacja modelu dla wylosowanych hiperparametrów\n",
    "    trainResults, testResults, predictions, indices = CVTestRFClass(n_estimators=100,\n",
    "                                                                    max_depth=params[\"max_depth\"],\n",
    "                                                                    max_features=params[\"max_features\"],\n",
    "                                                                    min_samples_split=params[\"min_samples_split\"],\n",
    "                                                                    min_samples_leaf=params[\"min_samples_leaf\"])\n",
    "    \n",
    "    # Zapiszmy wynik\n",
    "    results.append((np.mean(testResults), params.copy()))\n",
    "    \n",
    "    # Wyświetlmy wynik bieżącej iteracji\n",
    "    print(params, np.mean(testResults))\n",
    "    \n",
    "    # Co 10 iteracji wyświetlmy sobie nasze dotychczasowe top 5\n",
    "    if k>1 and k%10==0:    \n",
    "        print(\"\\n Top 5:\")\n",
    "        for score, params in sorted(results, key=lambda x: x[0], reverse=True)[0:5]:\n",
    "            print(params, score)\n",
    "        print()"
   ]
  },
  {
   "cell_type": "code",
   "execution_count": 117,
   "id": "9fd879d7",
   "metadata": {},
   "outputs": [
    {
     "data": {
      "text/plain": [
       "[<matplotlib.lines.Line2D at 0x21abf490>]"
      ]
     },
     "execution_count": 117,
     "metadata": {},
     "output_type": "execute_result"
    },
    {
     "data": {
      "image/png": "[encoded data removed]",
      "text/plain": [
       "<Figure size 432x288 with 1 Axes>"
      ]
     },
     "metadata": {
      "needs_background": "light"
     },
     "output_type": "display_data"
    }
   ],
   "source": [
    "# Jak z czasem poprawiał się najlepszy wynik:\n",
    "bestHistory = []\n",
    "for k in range(1,len(results)):\n",
    "    # List comprehension: dla k pierwszych wartości zwróć maximum\n",
    "    bestHistory.append(np.max([x for x, y in sorted(results[:k], key=lambda x: x[0], reverse=True)]))\n",
    "# Wykres historii\n",
    "plt.plot(bestHistory)"
   ]
  },
  {
   "cell_type": "markdown",
   "id": "5eec71e5",
   "metadata": {},
   "source": [
    "## Feature importance\n",
    "Dodajemy parametr `saveModels = False`."
   ]
  },
  {
   "cell_type": "code",
   "execution_count": 118,
   "id": "f22e642c",
   "metadata": {},
   "outputs": [],
   "source": [
    "from sklearn.model_selection import KFold\n",
    "from sklearn import metrics\n",
    "from sklearn.ensemble import RandomForestClassifier\n",
    "from sklearn.metrics import roc_auc_score\n",
    "\n",
    "\n",
    "# Przygotujmy wrapper\n",
    "def CVTestRFClass(nFolds = 5, randomState=2020, debug=False, features=features, saveModels = False, *args, **kwargs):\n",
    "    \n",
    "    # Przygotujmy walidację krzyżową\n",
    "    kf = KFold(n_splits=nFolds, shuffle=True, random_state=randomState)\n",
    "\n",
    "    # Aby oszczędzać pamięć, informacja o foldach to wyłącznie numery wierszy\n",
    "    testResults = []\n",
    "    \n",
    "    # Dodajemy informację o wynikach na zbiorze treningowym\n",
    "    trainResults = []\n",
    "    \n",
    "    # Przechowujemy  predykcje dla poszczególnych foldów\n",
    "    predictions = []\n",
    "    # Indeksy w oryginalnym zbiorze danych\n",
    "    indices = []\n",
    "    \n",
    "    # Przygotowjemy liste modeli do zachowania\n",
    "    models = []\n",
    "    \n",
    "    # Pętla walidująca modele\n",
    "    for train, test in kf.split(df.index.values):\n",
    "        # Przygotowanie estymatora\n",
    "        clf = RandomForestClassifier(*args, **kwargs, random_state=randomState, n_jobs=-1)\n",
    "        if debug:\n",
    "            print(clf)\n",
    "        # Trenowanie modelu\n",
    "        clf.fit(df.iloc[train][features], df.iloc[train][target])\n",
    "\n",
    "        # Przygotowanie prognoz dla zbioru treningowego i testowego\n",
    "        # Sklearn zwraca dwie kolumny prawdopodobieństw dla obydwu klas\n",
    "        predsTrain = clf.predict_proba(df.iloc[train][features])[:,1]\n",
    "        preds = clf.predict_proba(df.iloc[test][features])[:,1]\n",
    "        \n",
    "        # Zachowujemy informacje o predykcjach dla tego foldu\n",
    "        predictions.append(preds.tolist().copy())\n",
    "        \n",
    "        # Indeksy w oryginalnym dataframe\n",
    "        indices.append(df.iloc[test].index.tolist().copy())\n",
    "        \n",
    "        # Policzenie dopasowania metryką ROC-AUC\n",
    "        trainScore = roc_auc_score((df[target].iloc[train]==\"yes\").astype(int), predsTrain)\n",
    "        testScore = roc_auc_score((df[target].iloc[test]==\"yes\").astype(int), preds)\n",
    "        \n",
    "        # Zapisanie wyników z iteracji\n",
    "        trainResults.append(trainScore)\n",
    "        testResults.append(testScore)\n",
    "        \n",
    "        # Informowanie o każdym foldzie razem z wynikami treningowymi\n",
    "        if debug:\n",
    "            print(\"Train AUC:\", trainScore,\n",
    "                  \"Valid AUC:\", testScore)\n",
    "        \n",
    "        # Zapisanie wyników do listy models\n",
    "        if saveModels:\n",
    "            models.append(clf)\n",
    "    \n",
    "    # Lista zwracanych wyników - zwróćmy uwagę na nowy obiekt models\n",
    "    return trainResults, testResults, predictions, indices, models"
   ]
  },
  {
   "cell_type": "code",
   "execution_count": 120,
   "id": "431d4674",
   "metadata": {},
   "outputs": [],
   "source": [
    "trainResults, testResults, predictions, indices, models = CVTestRFClass(n_estimators=500, max_depth=20,\n",
    "                                                                    max_features=4,\n",
    "                                                                    min_samples_split=4, min_samples_leaf=1,\n",
    "                                                                        saveModels=True)"
   ]
  },
  {
   "cell_type": "code",
   "execution_count": 122,
   "id": "d69b8c43",
   "metadata": {},
   "outputs": [
    {
     "data": {
      "text/plain": [
       "[(0.3890581131768351, 'duration'),\n",
       " (0.08217577014964114, 'balance'),\n",
       " (0.08102766112571382, 'month'),\n",
       " (0.07819362432128948, 'age'),\n",
       " (0.06730735129692861, 'day'),\n",
       " (0.04889165989909755, 'contact'),\n",
       " (0.04471833497188696, 'pdays'),\n",
       " (0.037793307643543154, 'poutcome'),\n",
       " (0.03544606500027648, 'job'),\n",
       " (0.033220268296325704, 'housing'),\n",
       " (0.031953364644833185, 'campaign'),\n",
       " (0.022683025505984115, 'previous'),\n",
       " (0.01957689973235214, 'education'),\n",
       " (0.016099229950782685, 'marital'),\n",
       " (0.010637314169979106, 'loan'),\n",
       " (0.0012180101145306008, 'default')]"
      ]
     },
     "execution_count": 122,
     "metadata": {},
     "output_type": "execute_result"
    }
   ],
   "source": [
    "imps = list(zip(models[0].feature_importances_, features))\n",
    "imps.sort(reverse=True)\n",
    "imps"
   ]
  },
  {
   "cell_type": "code",
   "execution_count": 123,
   "id": "51746f83",
   "metadata": {},
   "outputs": [
    {
     "data": {
      "text/plain": [
       "[(0.38267876987594335, 'duration'),\n",
       " (0.08508754054745363, 'month'),\n",
       " (0.08194437879556453, 'balance'),\n",
       " (0.07816998364268088, 'age'),\n",
       " (0.0682054938484369, 'day'),\n",
       " (0.04831179363013494, 'contact'),\n",
       " (0.04589949311710751, 'pdays'),\n",
       " (0.03698569244688108, 'poutcome'),\n",
       " (0.034962444252451805, 'job'),\n",
       " (0.0338120100380233, 'housing'),\n",
       " (0.0314370550501223, 'campaign'),\n",
       " (0.02478156071419787, 'previous'),\n",
       " (0.020000269764744456, 'education'),\n",
       " (0.016491210960269852, 'marital'),\n",
       " (0.010090183704059539, 'loan'),\n",
       " (0.001142119611928118, 'default')]"
      ]
     },
     "execution_count": 123,
     "metadata": {},
     "output_type": "execute_result"
    }
   ],
   "source": [
    "imps = list(zip(models[1].feature_importances_, features))\n",
    "imps.sort(reverse=True)\n",
    "imps"
   ]
  },
  {
   "cell_type": "markdown",
   "id": "ff292a5f",
   "metadata": {},
   "source": [
    "Uzyskujemy dosyć podobne wnioski jak w przypadku analizy z uzyciem algorytmu kNN. \n",
    "Duration jest zdecydowanie najważniejszą zmienną. \n",
    "Zmienne: age, day i balance również okazywały się być istotne w obydwu przypadkach."
   ]
  },
  {
   "cell_type": "code",
   "execution_count": null,
   "id": "cb13941f",
   "metadata": {},
   "outputs": [],
   "source": []
  }
 ],
 "metadata": {
  "kernelspec": {
   "display_name": "Python 3",
   "language": "python",
   "name": "python3"
  },
  "language_info": {
   "codemirror_mode": {
    "name": "ipython",
    "version": 3
   },
   "file_extension": ".py",
   "mimetype": "text/x-python",
   "name": "python",
   "nbconvert_exporter": "python",
   "pygments_lexer": "ipython3",
   "version": "3.8.8"
  }
 },
 "nbformat": 4,
 "nbformat_minor": 5
}
